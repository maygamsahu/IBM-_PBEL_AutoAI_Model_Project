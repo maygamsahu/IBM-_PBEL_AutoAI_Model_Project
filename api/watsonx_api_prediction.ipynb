{
  "cells": [
    {
      "cell_type": "code",
      "execution_count": null,
      "metadata": {
        "colab": {
          "base_uri": "https://localhost:8080/"
        },
        "id": "pEyAffNeb_d7",
        "outputId": "6ca3b126-6bae-429a-90e3-a3abf2ed6ef4"
      },
      "outputs": [
        {
          "name": "stdout",
          "output_type": "stream",
          "text": [
            "Scoring response:\n",
            "{\n",
            "  \"predictions\": [\n",
            "    {\n",
            "      \"fields\": [\n",
            "        \"prediction\"\n",
            "      ],\n",
            "      \"values\": [\n",
            "        [\n",
            "          76.72574615478516\n",
            "        ],\n",
            "        [\n",
            "          76.10293579101562\n",
            "        ],\n",
            "        [\n",
            "          75.45791625976562\n",
            "        ],\n",
            "        [\n",
            "          78.43183135986328\n",
            "        ],\n",
            "        [\n",
            "          75.12319946289062\n",
            "        ]\n",
            "      ]\n",
            "    }\n",
            "  ]\n",
            "}\n"
          ]
        }
      ],
      "source": [
        "import requests\n",
        "import json\n",
        "\n",
        "# 🔑 IBM Cloud API key\n",
        "API_KEY = \"{api}\"\n",
        "\n",
        "# 🌐 Step 1: Get access token\n",
        "token_response = requests.post(\n",
        "    'https://iam.cloud.ibm.com/identity/token',\n",
        "    data={\"apikey\": API_KEY, \"grant_type\": \"urn:ibm:params:oauth:grant-type:apikey\"}\n",
        ")\n",
        "mltoken = token_response.json()[\"access_token\"]\n",
        "\n",
        "# 📦 Step 2: Prepare header\n",
        "header = {\n",
        "    'Content-Type': 'application/json',\n",
        "    'Authorization': 'Bearer ' + mltoken\n",
        "}\n",
        "\n",
        "# 📊 Step 3: Define payload for scoring\n",
        "payload_scoring = {\n",
        "    \"input_data\": [\n",
        "        {\n",
        "            \"fields\": [\n",
        "                \"City\", \"Country\", \"Date\", \"PM10\", \"NO2\", \"SO2\", \"CO\", \"O3\",\n",
        "                \"Temperature\", \"Humidity\", \"Wind Speed\"\n",
        "            ],\n",
        "            \"values\": [\n",
        "                [\"Kolkata\", \"India\", \"2025-07-09\", 45.69, 54.18, 10.56, 1.64, 43.90, 25.17, 79.83, 4.46],\n",
        "                [\"Bangalore\", \"India\", \"2025-07-06\", 61.74, 47.11, 25.68, 0.78, 47.14, 25.89, 73.87, 4.52],\n",
        "                [\"Bangalore\", \"India\", \"2025-07-19\", 90.41, 68.61, 10.77, 1.36, 71.17, 31.41, 63.87, 0.53],\n",
        "                [\"Chennai\", \"India\", \"2025-07-14\", 51.86, 10.84, 25.86, 0.57, 62.42, 38.49, 55.13, 4.72],\n",
        "                [\"Chennai\", \"India\", \"2025-07-04\", 122.75, 37.80, 26.15, 0.77, 72.83, 30.55, 46.92, 2.27]\n",
        "            ]\n",
        "        }\n",
        "    ]\n",
        "}\n",
        "\n",
        "# 🚀 Step 4: Send scoring request\n",
        "response_scoring = requests.post(\n",
        "    'https://au-syd.ml.cloud.ibm.com/ml/v4/deployments/62466d0d-a412-4e3d-8eee-60105586fc63/predictions?version=2021-05-01',\n",
        "    json=payload_scoring,\n",
        "    headers=header\n",
        ")\n",
        "\n",
        "# 📋 Step 5: Handle and print response\n",
        "print(\"Scoring response:\")\n",
        "try:\n",
        "    print(json.dumps(response_scoring.json(), indent=2))\n",
        "except ValueError:\n",
        "    print(response_scoring.text)\n",
        "except Exception as e:\n",
        "    print(f\"An unexpected error occurred: {e}\")\n"
      ]
    }
  ],
  "metadata": {
    "colab": {
      "provenance": []
    },
    "kernelspec": {
      "display_name": "Python 3",
      "name": "python3"
    },
    "language_info": {
      "name": "python"
    }
  },
  "nbformat": 4,
  "nbformat_minor": 0
}
